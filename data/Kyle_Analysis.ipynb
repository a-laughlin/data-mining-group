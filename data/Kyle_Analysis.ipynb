{
 "cells": [
  {
   "cell_type": "code",
   "execution_count": 8,
   "metadata": {},
   "outputs": [],
   "source": [
    "import pandas as pd\n",
    "\n",
    "def analysis(filename):\n",
    "    file = open(filename)\n",
    "    df = pd.read_csv(file)\n",
    "    \n",
    "    negemo_total = df['negemo'].sum()\n",
    "    posemo_total = df['posemo'].sum()\n",
    "    sad_total = df['sad'].sum()\n",
    "    anger_total = df['anger'].sum()\n",
    "    rows = df.shape[0]\n",
    "    negemo_mean = negemo_total / rows\n",
    "    posemo_mean = posemo_total / rows\n",
    "    sad_mean = sad_total / rows\n",
    "    anger_mean = anger_total / rows\n",
    "    print('Negative Emotions Average: {}'.format(negemo_mean))\n",
    "    print('Positive Emotions Average: {}'.format(posemo_mean))\n",
    "    print('Sadness Average: {}'.format(sad_mean))\n",
    "    print('Anger Average: {}'.format(anger_mean))"
   ]
  },
  {
   "cell_type": "code",
   "execution_count": 9,
   "metadata": {},
   "outputs": [
    {
     "name": "stdout",
     "output_type": "stream",
     "text": [
      "Negative Emotions Average: 1.4788377018797987\n",
      "Positive Emotions Average: 2.6720509001853325\n",
      "Sadness Average: 0.34632016150383904\n",
      "Anger Average: 0.3342834921895685\n"
     ]
    }
   ],
   "source": [
    "analysis('data.csv')"
   ]
  },
  {
   "cell_type": "code",
   "execution_count": null,
   "metadata": {},
   "outputs": [],
   "source": []
  }
 ],
 "metadata": {
  "kernelspec": {
   "display_name": "Python 3",
   "language": "python",
   "name": "python3"
  },
  "language_info": {
   "codemirror_mode": {
    "name": "ipython",
    "version": 3
   },
   "file_extension": ".py",
   "mimetype": "text/x-python",
   "name": "python",
   "nbconvert_exporter": "python",
   "pygments_lexer": "ipython3",
   "version": "3.7.3"
  }
 },
 "nbformat": 4,
 "nbformat_minor": 2
}

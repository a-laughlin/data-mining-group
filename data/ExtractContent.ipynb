{
 "cells": [
  {
   "cell_type": "code",
   "execution_count": 17,
   "metadata": {},
   "outputs": [],
   "source": [
    "import pandas as pd\n",
    "\n",
    "def func(filename):\n",
    "    #read in csv file as dataframe\n",
    "    file = open(filename)\n",
    "    df = pd.read_csv(file)\n",
    "    \n",
    "    #opening each text file and creating an array with the content from each post\n",
    "    postContent = []\n",
    "    for blogName in df['Filename']:\n",
    "        blogPost = open('posts/'+blogName)\n",
    "        postContent.append(blogPost.read())\n",
    "        \n",
    "        blogPost.close()\n",
    "    \n",
    "    #creating new dataframe\n",
    "    df['Content'] = postContent\n",
    "    \n",
    "    #writing new csv file\n",
    "    df.to_csv('posts.csv')\n",
    "    \n",
    "    file.close()"
   ]
  },
  {
   "cell_type": "code",
   "execution_count": 18,
   "metadata": {},
   "outputs": [],
   "source": [
    "func(\"post_meta.csv\")"
   ]
  },
  {
   "cell_type": "code",
   "execution_count": null,
   "metadata": {},
   "outputs": [],
   "source": []
  }
 ],
 "metadata": {
  "kernelspec": {
   "display_name": "Python 3",
   "language": "python",
   "name": "python3"
  },
  "language_info": {
   "codemirror_mode": {
    "name": "ipython",
    "version": 3
   },
   "file_extension": ".py",
   "mimetype": "text/x-python",
   "name": "python",
   "nbconvert_exporter": "python",
   "pygments_lexer": "ipython3",
   "version": "3.7.3"
  }
 },
 "nbformat": 4,
 "nbformat_minor": 2
}

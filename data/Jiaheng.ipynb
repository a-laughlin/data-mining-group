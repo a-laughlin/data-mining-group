{
 "cells": [
  {
   "cell_type": "markdown",
   "metadata": {},
   "source": [
    "```\n",
    "Summary\n",
    "This time, I mainly use the python VADER library in the nlp domain to judge the emotions of the article. Through the emotional trend of the monthly latitude and the frequency of uploading, it is found that the author is generally an optimistic and diligent person.\n",
    "```\n"
   ]
  },
  {
   "cell_type": "code",
   "execution_count": 1,
   "metadata": {
    "ExecuteTime": {
     "end_time": "2019-08-06T14:19:27.773730Z",
     "start_time": "2019-08-06T14:18:55.563312Z"
    }
   },
   "outputs": [
    {
     "name": "stdout",
     "output_type": "stream",
     "text": [
      "Looking in indexes: https://pypi.tuna.tsinghua.edu.cn/simple\n",
      "Requirement already satisfied: pandas in d:\\users\\administrator\\anaconda3\\lib\\site-packages (0.23.4)\n",
      "Requirement already satisfied: python-dateutil>=2.5.0 in d:\\users\\administrator\\anaconda3\\lib\\site-packages (from pandas) (2.8.0)\n",
      "Requirement already satisfied: pytz>=2011k in d:\\users\\administrator\\anaconda3\\lib\\site-packages (from pandas) (2018.9)\n",
      "Requirement already satisfied: numpy>=1.9.0 in d:\\users\\administrator\\anaconda3\\lib\\site-packages (from pandas) (1.15.4)\n",
      "Requirement already satisfied: six>=1.5 in d:\\users\\administrator\\anaconda3\\lib\\site-packages (from python-dateutil>=2.5.0->pandas) (1.12.0)\n",
      "Looking in indexes: https://pypi.tuna.tsinghua.edu.cn/simple\n",
      "Requirement already satisfied: numpy in d:\\users\\administrator\\anaconda3\\lib\\site-packages (1.15.4)\n",
      "Looking in indexes: https://pypi.tuna.tsinghua.edu.cn/simple\n",
      "Requirement already satisfied: seaborn in d:\\users\\administrator\\anaconda3\\lib\\site-packages (0.9.0)\n",
      "Requirement already satisfied: pandas>=0.15.2 in d:\\users\\administrator\\anaconda3\\lib\\site-packages (from seaborn) (0.23.4)\n",
      "Requirement already satisfied: scipy>=0.14.0 in d:\\users\\administrator\\anaconda3\\lib\\site-packages (from seaborn) (1.1.0)\n",
      "Requirement already satisfied: numpy>=1.9.3 in d:\\users\\administrator\\anaconda3\\lib\\site-packages (from seaborn) (1.15.4)\n",
      "Requirement already satisfied: matplotlib>=1.4.3 in d:\\users\\administrator\\anaconda3\\lib\\site-packages (from seaborn) (2.2.2)\n",
      "Requirement already satisfied: python-dateutil>=2.5.0 in d:\\users\\administrator\\anaconda3\\lib\\site-packages (from pandas>=0.15.2->seaborn) (2.8.0)\n",
      "Requirement already satisfied: pytz>=2011k in d:\\users\\administrator\\anaconda3\\lib\\site-packages (from pandas>=0.15.2->seaborn) (2018.9)\n",
      "Requirement already satisfied: cycler>=0.10 in d:\\users\\administrator\\anaconda3\\lib\\site-packages (from matplotlib>=1.4.3->seaborn) (0.10.0)\n",
      "Requirement already satisfied: pyparsing!=2.0.4,!=2.1.2,!=2.1.6,>=2.0.1 in d:\\users\\administrator\\anaconda3\\lib\\site-packages (from matplotlib>=1.4.3->seaborn) (2.2.2)\n",
      "Requirement already satisfied: six>=1.10 in d:\\users\\administrator\\anaconda3\\lib\\site-packages (from matplotlib>=1.4.3->seaborn) (1.12.0)\n",
      "Requirement already satisfied: kiwisolver>=1.0.1 in d:\\users\\administrator\\anaconda3\\lib\\site-packages (from matplotlib>=1.4.3->seaborn) (1.0.1)\n",
      "Requirement already satisfied: setuptools in d:\\users\\administrator\\anaconda3\\lib\\site-packages (from kiwisolver>=1.0.1->matplotlib>=1.4.3->seaborn) (40.8.0)\n",
      "Looking in indexes: https://pypi.tuna.tsinghua.edu.cn/simple\n",
      "Requirement already satisfied: matplotlib in d:\\users\\administrator\\anaconda3\\lib\\site-packages (2.2.2)\n",
      "Requirement already satisfied: numpy>=1.7.1 in d:\\users\\administrator\\anaconda3\\lib\\site-packages (from matplotlib) (1.15.4)\n",
      "Requirement already satisfied: cycler>=0.10 in d:\\users\\administrator\\anaconda3\\lib\\site-packages (from matplotlib) (0.10.0)\n",
      "Requirement already satisfied: pyparsing!=2.0.4,!=2.1.2,!=2.1.6,>=2.0.1 in d:\\users\\administrator\\anaconda3\\lib\\site-packages (from matplotlib) (2.2.2)\n",
      "Requirement already satisfied: python-dateutil>=2.1 in d:\\users\\administrator\\anaconda3\\lib\\site-packages (from matplotlib) (2.8.0)\n",
      "Requirement already satisfied: pytz in d:\\users\\administrator\\anaconda3\\lib\\site-packages (from matplotlib) (2018.9)\n",
      "Requirement already satisfied: six>=1.10 in d:\\users\\administrator\\anaconda3\\lib\\site-packages (from matplotlib) (1.12.0)\n",
      "Requirement already satisfied: kiwisolver>=1.0.1 in d:\\users\\administrator\\anaconda3\\lib\\site-packages (from matplotlib) (1.0.1)\n",
      "Requirement already satisfied: setuptools in d:\\users\\administrator\\anaconda3\\lib\\site-packages (from kiwisolver>=1.0.1->matplotlib) (40.8.0)\n"
     ]
    }
   ],
   "source": [
    "!pip install pandas \n",
    "!pip install numpy\n",
    "!pip install seaborn\n",
    "!pip install matplotlib"
   ]
  },
  {
   "cell_type": "code",
   "execution_count": 2,
   "metadata": {
    "ExecuteTime": {
     "end_time": "2019-08-06T14:19:49.601228Z",
     "start_time": "2019-08-06T14:19:30.410136Z"
    }
   },
   "outputs": [],
   "source": [
    "%matplotlib inline\n",
    "%config InlineBackend.figure_format = 'svg'\n",
    "import pandas as pd\n",
    "import numpy as np\n",
    "import matplotlib.pyplot as plt\n",
    "import seaborn as sns\n",
    "\n",
    "plt.rcParams['font.sans-serif'] = ['Arial Unicode MS']"
   ]
  },
  {
   "cell_type": "code",
   "execution_count": 3,
   "metadata": {
    "ExecuteTime": {
     "end_time": "2019-08-06T14:19:57.198106Z",
     "start_time": "2019-08-06T14:19:56.310069Z"
    }
   },
   "outputs": [],
   "source": [
    "data = pd.read_csv('data/posts.csv')"
   ]
  },
  {
   "cell_type": "code",
   "execution_count": 4,
   "metadata": {
    "ExecuteTime": {
     "end_time": "2019-08-06T14:19:59.177133Z",
     "start_time": "2019-08-06T14:19:59.075407Z"
    }
   },
   "outputs": [],
   "source": [
    "data.drop(['Unnamed: 0'], axis=1, inplace=True)"
   ]
  },
  {
   "cell_type": "code",
   "execution_count": 5,
   "metadata": {
    "ExecuteTime": {
     "end_time": "2019-08-06T14:20:00.083056Z",
     "start_time": "2019-08-06T14:19:59.910411Z"
    }
   },
   "outputs": [
    {
     "data": {
      "text/html": [
       "<div>\n",
       "<style scoped>\n",
       "    .dataframe tbody tr th:only-of-type {\n",
       "        vertical-align: middle;\n",
       "    }\n",
       "\n",
       "    .dataframe tbody tr th {\n",
       "        vertical-align: top;\n",
       "    }\n",
       "\n",
       "    .dataframe thead th {\n",
       "        text-align: right;\n",
       "    }\n",
       "</style>\n",
       "<table border=\"1\" class=\"dataframe\">\n",
       "  <thead>\n",
       "    <tr style=\"text-align: right;\">\n",
       "      <th></th>\n",
       "      <th>year</th>\n",
       "      <th>month</th>\n",
       "      <th>day</th>\n",
       "      <th>author</th>\n",
       "      <th>title</th>\n",
       "      <th>Filename</th>\n",
       "      <th>Content</th>\n",
       "    </tr>\n",
       "  </thead>\n",
       "  <tbody>\n",
       "    <tr>\n",
       "      <th>0</th>\n",
       "      <td>2001</td>\n",
       "      <td>9</td>\n",
       "      <td>14</td>\n",
       "      <td>ritholtz</td>\n",
       "      <td>How This Page “Happened”</td>\n",
       "      <td>_2001_09_how-this-page-happened_.txt</td>\n",
       "      <td>\"The short version is I wanted to get somethin...</td>\n",
       "    </tr>\n",
       "    <tr>\n",
       "      <th>1</th>\n",
       "      <td>2001</td>\n",
       "      <td>9</td>\n",
       "      <td>16</td>\n",
       "      <td>ritholtz</td>\n",
       "      <td>Postscript</td>\n",
       "      <td>_2001_09_postscript_.txt</td>\n",
       "      <td>\"Postscript\\n\\nA few small details to tidy up....</td>\n",
       "    </tr>\n",
       "    <tr>\n",
       "      <th>2</th>\n",
       "      <td>2001</td>\n",
       "      <td>9</td>\n",
       "      <td>19</td>\n",
       "      <td>ritholtz</td>\n",
       "      <td>Feedback</td>\n",
       "      <td>_2001_09_feedback_.txt</td>\n",
       "      <td>\"Feedback\\n\\nEver since I posted the original ...</td>\n",
       "    </tr>\n",
       "    <tr>\n",
       "      <th>3</th>\n",
       "      <td>2001</td>\n",
       "      <td>10</td>\n",
       "      <td>26</td>\n",
       "      <td>ritholtz</td>\n",
       "      <td>Favorite Links</td>\n",
       "      <td>_2001_10_favorite-links_.txt</td>\n",
       "      <td>\"Home\\n\\nWritings\\n\\n\\n\\n\\nPublished Articles\\...</td>\n",
       "    </tr>\n",
       "    <tr>\n",
       "      <th>4</th>\n",
       "      <td>2001</td>\n",
       "      <td>10</td>\n",
       "      <td>26</td>\n",
       "      <td>ritholtz</td>\n",
       "      <td>Recent Articles</td>\n",
       "      <td>_2001_10_recent-articles_.txt</td>\n",
       "      <td>\"\\u201cVolatile markets call for stop-loss ord...</td>\n",
       "    </tr>\n",
       "  </tbody>\n",
       "</table>\n",
       "</div>"
      ],
      "text/plain": [
       "   year  month  day    author                     title  \\\n",
       "0  2001      9   14  ritholtz  How This Page “Happened”   \n",
       "1  2001      9   16  ritholtz                Postscript   \n",
       "2  2001      9   19  ritholtz                  Feedback   \n",
       "3  2001     10   26  ritholtz            Favorite Links   \n",
       "4  2001     10   26  ritholtz           Recent Articles   \n",
       "\n",
       "                               Filename  \\\n",
       "0  _2001_09_how-this-page-happened_.txt   \n",
       "1              _2001_09_postscript_.txt   \n",
       "2                _2001_09_feedback_.txt   \n",
       "3          _2001_10_favorite-links_.txt   \n",
       "4         _2001_10_recent-articles_.txt   \n",
       "\n",
       "                                             Content  \n",
       "0  \"The short version is I wanted to get somethin...  \n",
       "1  \"Postscript\\n\\nA few small details to tidy up....  \n",
       "2  \"Feedback\\n\\nEver since I posted the original ...  \n",
       "3  \"Home\\n\\nWritings\\n\\n\\n\\n\\nPublished Articles\\...  \n",
       "4  \"\\u201cVolatile markets call for stop-loss ord...  "
      ]
     },
     "execution_count": 5,
     "metadata": {},
     "output_type": "execute_result"
    }
   ],
   "source": [
    "data.head()"
   ]
  },
  {
   "cell_type": "markdown",
   "metadata": {},
   "source": [
    "https://github.com/cjhutto/vaderSentiment#features-and-updates\n",
    "\n",
    "VADER Sentiment Analysis. VADER (Valence Aware Dictionary and sEntiment Reasoner) is a lexicon and rule-based sentiment analysis tool that is specifically attuned to sentiments expressed in social media, and works well on texts from other domains.\n",
    "\n",
    "```\n",
    "positive sentiment: compound score >= 0.05\n",
    "neutral sentiment: (compound score > -0.05) and (compound score < 0.05)\n",
    "negative sentiment: compound score <= -0.05\n",
    "```"
   ]
  },
  {
   "cell_type": "code",
   "execution_count": 6,
   "metadata": {
    "ExecuteTime": {
     "end_time": "2019-08-06T14:20:08.928589Z",
     "start_time": "2019-08-06T14:20:02.070261Z"
    }
   },
   "outputs": [
    {
     "name": "stdout",
     "output_type": "stream",
     "text": [
      "Looking in indexes: https://pypi.tuna.tsinghua.edu.cn/simple\n",
      "Collecting vaderSentiment\n",
      "  Downloading https://pypi.tuna.tsinghua.edu.cn/packages/86/9e/c53e1fc61aac5ee490a6ac5e21b1ac04e55a7c2aba647bb8411c9aadf24e/vaderSentiment-3.2.1-py2.py3-none-any.whl (125kB)\n",
      "Installing collected packages: vaderSentiment\n",
      "Successfully installed vaderSentiment-3.2.1\n"
     ]
    }
   ],
   "source": [
    "!pip install vaderSentiment"
   ]
  },
  {
   "cell_type": "code",
   "execution_count": 8,
   "metadata": {
    "ExecuteTime": {
     "end_time": "2019-08-06T14:20:26.856097Z",
     "start_time": "2019-08-06T14:20:25.316198Z"
    }
   },
   "outputs": [],
   "source": [
    "from vaderSentiment.vaderSentiment import SentimentIntensityAnalyzer"
   ]
  },
  {
   "cell_type": "code",
   "execution_count": 9,
   "metadata": {
    "ExecuteTime": {
     "end_time": "2019-08-06T14:20:27.282124Z",
     "start_time": "2019-08-06T14:20:27.260137Z"
    }
   },
   "outputs": [],
   "source": [
    "analyzer = SentimentIntensityAnalyzer()"
   ]
  },
  {
   "cell_type": "code",
   "execution_count": 10,
   "metadata": {
    "ExecuteTime": {
     "end_time": "2019-08-06T14:20:28.219426Z",
     "start_time": "2019-08-06T14:20:28.120486Z"
    }
   },
   "outputs": [
    {
     "name": "stdout",
     "output_type": "stream",
     "text": [
      "{'neg': 0.088, 'neu': 0.783, 'pos': 0.129, 'compound': 0.984}\n"
     ]
    }
   ],
   "source": [
    "vs = analyzer.polarity_scores(data['Content'].tolist()[0])\n",
    "print(\"{}\".format(str(vs)))"
   ]
  },
  {
   "cell_type": "code",
   "execution_count": null,
   "metadata": {
    "ExecuteTime": {
     "start_time": "2019-08-06T14:20:28.998Z"
    }
   },
   "outputs": [],
   "source": [
    "data['SentimentAll'] = data['Content'].map(lambda s: str(analyzer.polarity_scores(s)))"
   ]
  },
  {
   "cell_type": "code",
   "execution_count": null,
   "metadata": {
    "ExecuteTime": {
     "start_time": "2019-08-06T14:20:29.857Z"
    }
   },
   "outputs": [],
   "source": [
    "data.head()"
   ]
  },
  {
   "cell_type": "code",
   "execution_count": null,
   "metadata": {
    "ExecuteTime": {
     "start_time": "2019-08-06T14:20:30.665Z"
    }
   },
   "outputs": [],
   "source": [
    "data['SentimentAll'].tolist()[0]"
   ]
  },
  {
   "cell_type": "code",
   "execution_count": null,
   "metadata": {
    "ExecuteTime": {
     "start_time": "2019-08-06T14:20:31.431Z"
    }
   },
   "outputs": [],
   "source": [
    "def completion_date(elem):\n",
    "    \"\"\"Completion date\"\"\"\n",
    "    string = str(elem)\n",
    "    if len(string) == 1:\n",
    "        return \"0\"+string\n",
    "    else:\n",
    "        return string"
   ]
  },
  {
   "cell_type": "code",
   "execution_count": null,
   "metadata": {
    "ExecuteTime": {
     "start_time": "2019-08-06T14:20:32.223Z"
    }
   },
   "outputs": [],
   "source": [
    "data['year'] = data['year'].map(str)\n",
    "data['month'] = data['month'].map(completion_date)\n",
    "data['day'] = data['day'].map(completion_date)"
   ]
  },
  {
   "cell_type": "code",
   "execution_count": null,
   "metadata": {
    "ExecuteTime": {
     "start_time": "2019-08-06T14:20:32.904Z"
    }
   },
   "outputs": [],
   "source": [
    "data['date'] = data['year']+data['month']+data['day']"
   ]
  },
  {
   "cell_type": "code",
   "execution_count": null,
   "metadata": {
    "ExecuteTime": {
     "start_time": "2019-08-06T14:20:34.043Z"
    }
   },
   "outputs": [],
   "source": [
    "data.drop(['year', 'month', 'day'], axis=1, inplace=True)"
   ]
  },
  {
   "cell_type": "code",
   "execution_count": null,
   "metadata": {
    "ExecuteTime": {
     "start_time": "2019-08-06T14:20:35.366Z"
    }
   },
   "outputs": [],
   "source": [
    "data['date'] = pd.to_datetime(data['date'])"
   ]
  },
  {
   "cell_type": "code",
   "execution_count": null,
   "metadata": {
    "ExecuteTime": {
     "start_time": "2019-08-06T14:20:36.051Z"
    }
   },
   "outputs": [],
   "source": [
    "def get_sentiment(sentiment):\n",
    "    \"\"\"sentiment\"\"\"\n",
    "    sentiment = eval(sentiment)\n",
    "    if sentiment['compound'] >= 0.05:\n",
    "        return \"pos\"\n",
    "    elif sentiment['compound'] < 0.05 and sentiment['compound']>=-0.05:\n",
    "        return \"neu\"\n",
    "    else:\n",
    "        return \"neg\""
   ]
  },
  {
   "cell_type": "code",
   "execution_count": null,
   "metadata": {
    "ExecuteTime": {
     "start_time": "2019-08-06T14:20:36.880Z"
    }
   },
   "outputs": [],
   "source": [
    "data['Sentiment'] = data['SentimentAll'].map(get_sentiment)"
   ]
  },
  {
   "cell_type": "code",
   "execution_count": null,
   "metadata": {
    "ExecuteTime": {
     "start_time": "2019-08-06T14:20:37.566Z"
    }
   },
   "outputs": [],
   "source": [
    "data['Sentiment'].value_counts()"
   ]
  },
  {
   "cell_type": "code",
   "execution_count": null,
   "metadata": {
    "ExecuteTime": {
     "start_time": "2019-08-06T14:20:38.230Z"
    }
   },
   "outputs": [],
   "source": [
    "sentiment = {\n",
    "    'pos': 1,\n",
    "    'neg': -1,\n",
    "    'neu': 0\n",
    "}\n",
    "data['Sentiment'] = data['Sentiment'].map(sentiment)"
   ]
  },
  {
   "cell_type": "code",
   "execution_count": null,
   "metadata": {
    "ExecuteTime": {
     "start_time": "2019-08-06T14:20:38.902Z"
    }
   },
   "outputs": [],
   "source": [
    "data = data.set_index(data['date'])"
   ]
  },
  {
   "cell_type": "code",
   "execution_count": null,
   "metadata": {
    "ExecuteTime": {
     "start_time": "2019-08-06T14:20:39.583Z"
    }
   },
   "outputs": [],
   "source": [
    "data_tmp = data.copy()"
   ]
  },
  {
   "cell_type": "code",
   "execution_count": null,
   "metadata": {
    "ExecuteTime": {
     "start_time": "2019-08-06T14:20:40.372Z"
    }
   },
   "outputs": [],
   "source": [
    "# emotional change graph over time\n",
    "data_tmp.resample(\"M\")['Sentiment'].mean().plot(figsize=(8, 6))"
   ]
  },
  {
   "cell_type": "code",
   "execution_count": null,
   "metadata": {
    "ExecuteTime": {
     "start_time": "2019-08-06T14:20:41.611Z"
    }
   },
   "outputs": [],
   "source": [
    "# upload time frequency (monthly latitude)\n",
    "data_tmp.resample(\"M\")['Sentiment'].count().plot(figsize=(8, 6))"
   ]
  },
  {
   "cell_type": "code",
   "execution_count": null,
   "metadata": {},
   "outputs": [],
   "source": []
  }
 ],
 "metadata": {
  "kernelspec": {
   "display_name": "Python 3",
   "language": "python",
   "name": "python3"
  },
  "language_info": {
   "codemirror_mode": {
    "name": "ipython",
    "version": 3
   },
   "file_extension": ".py",
   "mimetype": "text/x-python",
   "name": "python",
   "nbconvert_exporter": "python",
   "pygments_lexer": "ipython3",
   "version": "3.6.8"
  },
  "latex_envs": {
   "LaTeX_envs_menu_present": true,
   "autoclose": false,
   "autocomplete": true,
   "bibliofile": "biblio.bib",
   "cite_by": "apalike",
   "current_citInitial": 1,
   "eqLabelWithNumbers": true,
   "eqNumInitial": 1,
   "hotkeys": {
    "equation": "Ctrl-E",
    "itemize": "Ctrl-I"
   },
   "labels_anchors": false,
   "latex_user_defs": false,
   "report_style_numbering": false,
   "user_envs_cfg": false
  }
 },
 "nbformat": 4,
 "nbformat_minor": 2
}
